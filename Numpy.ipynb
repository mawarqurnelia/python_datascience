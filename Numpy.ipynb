{
  "nbformat": 4,
  "nbformat_minor": 0,
  "metadata": {
    "colab": {
      "provenance": [],
      "include_colab_link": true
    },
    "kernelspec": {
      "name": "python3",
      "display_name": "Python 3"
    },
    "language_info": {
      "name": "python"
    }
  },
  "cells": [
    {
      "cell_type": "markdown",
      "metadata": {
        "id": "view-in-github",
        "colab_type": "text"
      },
      "source": [
        "<a href=\"https://colab.research.google.com/github/mawarqurnelia/python_datascience/blob/main/Numpy.ipynb\" target=\"_parent\"><img src=\"https://colab.research.google.com/assets/colab-badge.svg\" alt=\"Open In Colab\"/></a>"
      ]
    },
    {
      "cell_type": "markdown",
      "source": [
        "# Numpy"
      ],
      "metadata": {
        "id": "DZ5yXnqBB7Zn"
      }
    },
    {
      "cell_type": "code",
      "source": [
        "# pip install numpy"
      ],
      "metadata": {
        "id": "6cOfcRV2dezp"
      },
      "execution_count": null,
      "outputs": []
    },
    {
      "cell_type": "code",
      "source": [
        "import numpy as np"
      ],
      "metadata": {
        "id": "t9m0c01lB-UE"
      },
      "execution_count": null,
      "outputs": []
    },
    {
      "cell_type": "markdown",
      "source": [
        "## Numpy Create Array"
      ],
      "metadata": {
        "id": "U-CY1TptBWqg"
      }
    },
    {
      "cell_type": "code",
      "execution_count": null,
      "metadata": {
        "colab": {
          "base_uri": "https://localhost:8080/"
        },
        "id": "OWKfuA1eA6MO",
        "outputId": "1d1ee048-f8a3-4d93-b7f7-cd3bf0be0a9f"
      },
      "outputs": [
        {
          "output_type": "stream",
          "name": "stdout",
          "text": [
            "42\n"
          ]
        }
      ],
      "source": [
        "#@title 0-D Array\n",
        "\n",
        "var_array = np.array(42)\n",
        "\n",
        "print(var_array)"
      ]
    },
    {
      "cell_type": "code",
      "source": [
        "#@title 1-D Array\n",
        "\n",
        "var_array = np.array([1, 2, 3, 4, 5])\n",
        "\n",
        "print(var_array)"
      ],
      "metadata": {
        "colab": {
          "base_uri": "https://localhost:8080/"
        },
        "id": "BXsW_rNxCM5k",
        "outputId": "9829ba0f-5be1-4d51-9a7f-d6bf2cd1ec07"
      },
      "execution_count": null,
      "outputs": [
        {
          "output_type": "stream",
          "name": "stdout",
          "text": [
            "[1 2 3 4 5]\n"
          ]
        }
      ]
    },
    {
      "cell_type": "code",
      "source": [
        "var_array = np.ones(5)\n",
        "print(var_array)"
      ],
      "metadata": {
        "colab": {
          "base_uri": "https://localhost:8080/"
        },
        "id": "I38URGqHd6go",
        "outputId": "142e9b73-87bd-44f6-bc54-6473558c053b"
      },
      "execution_count": null,
      "outputs": [
        {
          "output_type": "stream",
          "name": "stdout",
          "text": [
            "[1. 1. 1. 1. 1.]\n"
          ]
        }
      ]
    },
    {
      "cell_type": "code",
      "source": [
        "var_array = np.zeros(4)\n",
        "print(var_array)"
      ],
      "metadata": {
        "colab": {
          "base_uri": "https://localhost:8080/"
        },
        "id": "Z3tGXYHMeFHQ",
        "outputId": "1792352e-2e1d-4731-8092-f2d6ebabb638"
      },
      "execution_count": null,
      "outputs": [
        {
          "output_type": "stream",
          "name": "stdout",
          "text": [
            "[0. 0. 0. 0.]\n"
          ]
        }
      ]
    },
    {
      "cell_type": "code",
      "source": [
        "var_array = np.random.random(6)\n",
        "print(var_array)"
      ],
      "metadata": {
        "colab": {
          "base_uri": "https://localhost:8080/"
        },
        "id": "gLQ6C_jNeMGg",
        "outputId": "eb378f8c-60bd-4913-e7a9-d2bf5b57fe27"
      },
      "execution_count": null,
      "outputs": [
        {
          "output_type": "stream",
          "name": "stdout",
          "text": [
            "[0.97680112 0.14286732 0.01884012 0.21165318 0.6878579  0.96800335]\n"
          ]
        }
      ]
    },
    {
      "cell_type": "code",
      "source": [
        "#@title 2-D Array\n",
        "\n",
        "var_array = np.array([[1, 2, 3], [4, 5, 6]])\n",
        "\n",
        "print(var_array)"
      ],
      "metadata": {
        "colab": {
          "base_uri": "https://localhost:8080/"
        },
        "id": "2hI20sR-CW7O",
        "outputId": "3cc856b1-7f32-43da-bb85-c7671d7cc19f"
      },
      "execution_count": null,
      "outputs": [
        {
          "output_type": "stream",
          "name": "stdout",
          "text": [
            "[[1 2 3]\n",
            " [4 5 6]]\n"
          ]
        }
      ]
    },
    {
      "cell_type": "code",
      "source": [
        "#@title 3-D Array\n",
        "\n",
        "var_array = np.array([[[1, 2, 3], [4, 5, 6]], [[1, 2, 3], [4, 5, 6]]])\n",
        "print(var_array)"
      ],
      "metadata": {
        "colab": {
          "base_uri": "https://localhost:8080/"
        },
        "id": "rOuPAuONCfHs",
        "outputId": "3c06faef-87b1-45c0-f15d-4919cd80435b"
      },
      "execution_count": null,
      "outputs": [
        {
          "output_type": "stream",
          "name": "stdout",
          "text": [
            "[[[1 2 3]\n",
            "  [4 5 6]]\n",
            "\n",
            " [[1 2 3]\n",
            "  [4 5 6]]]\n"
          ]
        }
      ]
    },
    {
      "cell_type": "code",
      "source": [
        "#@title Check dimensi array\n",
        "\n",
        "a = np.array(42)\n",
        "b = np.array([1, 2, 3, 4, 5])\n",
        "c = np.array([[1, 2, 3], [4, 5, 6]])\n",
        "d = np.array([[[1, 2, 3], [4, 5, 6]], [[1, 2, 3], [4, 5, 6]]])\n",
        "\n",
        "print(a.ndim)\n",
        "print(b.ndim)\n",
        "print(c.ndim)\n",
        "print(d.ndim)"
      ],
      "metadata": {
        "colab": {
          "base_uri": "https://localhost:8080/"
        },
        "id": "DzHJSRDECtin",
        "outputId": "3790c9f2-5547-47ce-c965-1b222e97103e"
      },
      "execution_count": null,
      "outputs": [
        {
          "output_type": "stream",
          "name": "stdout",
          "text": [
            "0\n",
            "1\n",
            "2\n",
            "3\n"
          ]
        }
      ]
    },
    {
      "cell_type": "code",
      "source": [
        "#@title Create array range\n",
        "#numpy.arange(start, stop, step)\n",
        "\n",
        "var_array = np.arange(1, 20, 2)\n",
        "print(var_array)"
      ],
      "metadata": {
        "colab": {
          "base_uri": "https://localhost:8080/"
        },
        "id": "1JRfiUrqFP--",
        "outputId": "3e963ac1-1af9-42f4-c3e7-602dbe8d6c75"
      },
      "execution_count": null,
      "outputs": [
        {
          "output_type": "stream",
          "name": "stdout",
          "text": [
            "[ 1  3  5  7  9 11 13 15 17 19]\n"
          ]
        }
      ]
    },
    {
      "cell_type": "code",
      "source": [
        "# create with reshape\n",
        "\n",
        "var_array = np.arange(10).reshape((2, 5))\n",
        "print(var_array)"
      ],
      "metadata": {
        "colab": {
          "base_uri": "https://localhost:8080/"
        },
        "id": "t4s9Il1nHr2j",
        "outputId": "fdd59e03-21d0-4dcb-aa18-59c43f72e9b4"
      },
      "execution_count": null,
      "outputs": [
        {
          "output_type": "stream",
          "name": "stdout",
          "text": [
            "[[0 1 2 3 4]\n",
            " [5 6 7 8 9]]\n"
          ]
        }
      ]
    },
    {
      "cell_type": "code",
      "source": [
        "# create numpy text\n",
        "\n",
        "var_array = np.array(['apple', 'banana', 'cherry'])\n",
        "print(var_array)"
      ],
      "metadata": {
        "colab": {
          "base_uri": "https://localhost:8080/"
        },
        "id": "xMHc-QnHJM3n",
        "outputId": "e47a4e1e-42fd-481d-ff20-d7fda4922d1a"
      },
      "execution_count": null,
      "outputs": [
        {
          "output_type": "stream",
          "name": "stdout",
          "text": [
            "['apple' 'banana' 'cherry']\n"
          ]
        }
      ]
    },
    {
      "cell_type": "markdown",
      "source": [
        "## Numpy Array Indexing"
      ],
      "metadata": {
        "id": "KxH9DJQoEoSn"
      }
    },
    {
      "cell_type": "code",
      "source": [
        "#@title Akses indeks\n",
        "\n",
        "# 1-D\n",
        "var_array = np.array([85, 55, 40, 90])\n",
        "\n",
        "# mengakses data pada array\n",
        "print(var_array[3])"
      ],
      "metadata": {
        "colab": {
          "base_uri": "https://localhost:8080/"
        },
        "id": "tJ7Y4EUmEDyF",
        "outputId": "641f8eb1-7c7c-406d-aa8f-1d6b6ee62fb2"
      },
      "execution_count": null,
      "outputs": [
        {
          "output_type": "stream",
          "name": "stdout",
          "text": [
            "90\n"
          ]
        }
      ]
    },
    {
      "cell_type": "code",
      "source": [
        "# 2-D\n",
        "var_array = np.array([[1,2,3,4,5], [6,7,8,9,10]])\n",
        "\n",
        "print(var_array[1, 2])"
      ],
      "metadata": {
        "colab": {
          "base_uri": "https://localhost:8080/"
        },
        "id": "baXMJ7tVFz3K",
        "outputId": "18652832-ee18-406c-ddeb-12c6e4db01b4"
      },
      "execution_count": null,
      "outputs": [
        {
          "output_type": "stream",
          "name": "stdout",
          "text": [
            "8\n"
          ]
        }
      ]
    },
    {
      "cell_type": "code",
      "source": [
        "# 3-D\n",
        "var_array = np.array([[[1, 2, 3], [4, 5, 6]], [[7, 8, 9], [10, 11, 12]]])\n",
        "\n",
        "print(var_array[1, 1, 2])"
      ],
      "metadata": {
        "colab": {
          "base_uri": "https://localhost:8080/"
        },
        "id": "RPPsLQGWGU65",
        "outputId": "30fa82cf-fa4e-4a1b-da7d-3e13120324a8"
      },
      "execution_count": null,
      "outputs": [
        {
          "output_type": "stream",
          "name": "stdout",
          "text": [
            "12\n"
          ]
        }
      ]
    },
    {
      "cell_type": "code",
      "source": [
        "#@title Operation indeks\n",
        "\n",
        "var_array = np.array([1, 2, 3, 4])\n",
        "\n",
        "print(var_array[2] + var_array[3])"
      ],
      "metadata": {
        "colab": {
          "base_uri": "https://localhost:8080/"
        },
        "id": "llW07msVEtTY",
        "outputId": "5c2120a6-c3f0-4866-e488-85f816b652be"
      },
      "execution_count": null,
      "outputs": [
        {
          "output_type": "stream",
          "name": "stdout",
          "text": [
            "7\n"
          ]
        }
      ]
    },
    {
      "cell_type": "code",
      "source": [
        "print(var_array[0] + var_array[2])"
      ],
      "metadata": {
        "colab": {
          "base_uri": "https://localhost:8080/"
        },
        "id": "cwBVmxk7gMn7",
        "outputId": "289cebe5-a18a-4a21-9851-c200cc9d230d"
      },
      "execution_count": null,
      "outputs": [
        {
          "output_type": "stream",
          "name": "stdout",
          "text": [
            "4\n"
          ]
        }
      ]
    },
    {
      "cell_type": "code",
      "source": [
        "#@title Slicing array\n",
        "\n",
        "# 1-D\n",
        "var_array = np.array([1, 2, 3, 4, 5, 6, 7])\n",
        "\n",
        "print(var_array[3:])"
      ],
      "metadata": {
        "colab": {
          "base_uri": "https://localhost:8080/"
        },
        "id": "eTRj4FKCG9AH",
        "outputId": "58988db8-e8ef-4a55-f393-d75cf28f3cff"
      },
      "execution_count": null,
      "outputs": [
        {
          "output_type": "stream",
          "name": "stdout",
          "text": [
            "[4 5 6 7]\n"
          ]
        }
      ]
    },
    {
      "cell_type": "code",
      "source": [
        "# 2-D\n",
        "var_array = np.array([[1, 2, 3, 4, 5], [6, 7, 8, 9, 10]])\n",
        "\n",
        "print(var_array[0, 1:4])"
      ],
      "metadata": {
        "colab": {
          "base_uri": "https://localhost:8080/"
        },
        "id": "z3JtN1SmImzx",
        "outputId": "f110e0fc-47a1-4850-f213-54413b95a888"
      },
      "execution_count": null,
      "outputs": [
        {
          "output_type": "stream",
          "name": "stdout",
          "text": [
            "[2 3 4]\n"
          ]
        }
      ]
    },
    {
      "cell_type": "code",
      "source": [
        "# 3-D\n",
        "var_array = np.array([[[1, 2, 3], [4, 5, 6]], [[7, 8, 9], [10, 11, 12]]])\n",
        "\n",
        "print(var_array[1, 1, 0:2])"
      ],
      "metadata": {
        "colab": {
          "base_uri": "https://localhost:8080/"
        },
        "id": "reVZZu8qI3SH",
        "outputId": "8b464dca-2f7b-44c3-cd74-53e58f810b52"
      },
      "execution_count": null,
      "outputs": [
        {
          "output_type": "stream",
          "name": "stdout",
          "text": [
            "[10 11]\n"
          ]
        }
      ]
    },
    {
      "cell_type": "code",
      "source": [
        "#@title Iterating Arrays\n",
        "\n",
        "var_array = np.array([1, 2, 3])\n",
        "\n",
        "for x in var_array:\n",
        "  print(x)"
      ],
      "metadata": {
        "colab": {
          "base_uri": "https://localhost:8080/"
        },
        "id": "Vt3YtRkXKNM1",
        "outputId": "e34faae1-0da9-486e-db2e-7150f9888b78"
      },
      "execution_count": null,
      "outputs": [
        {
          "output_type": "stream",
          "name": "stdout",
          "text": [
            "1\n",
            "2\n",
            "3\n"
          ]
        }
      ]
    },
    {
      "cell_type": "code",
      "source": [
        "var_array = np.array([[[1, 2, 3], [4, 5, 6]], [[7, 8, 9], [10, 11, 12]]])\n",
        "\n",
        "for x in var_array:\n",
        "  print(x)"
      ],
      "metadata": {
        "colab": {
          "base_uri": "https://localhost:8080/"
        },
        "id": "-vHYfejOLtJn",
        "outputId": "a39b6f76-f98e-4213-8996-2dac6f9c4a05"
      },
      "execution_count": null,
      "outputs": [
        {
          "output_type": "stream",
          "name": "stdout",
          "text": [
            "[[1 2 3]\n",
            " [4 5 6]]\n",
            "[[ 7  8  9]\n",
            " [10 11 12]]\n"
          ]
        }
      ]
    },
    {
      "cell_type": "markdown",
      "source": [
        "## Numpy Array Join"
      ],
      "metadata": {
        "id": "IU5xo-sVMArT"
      }
    },
    {
      "cell_type": "code",
      "source": [
        "#@title Concatenate\n",
        "\n",
        "arr1 = np.array([1, 2, 3])\n",
        "arr2 = np.array([4, 5, 6])\n",
        "\n",
        "arr = np.concatenate((arr1, arr2))\n",
        "print(arr)"
      ],
      "metadata": {
        "colab": {
          "base_uri": "https://localhost:8080/"
        },
        "id": "bcYd70eGMDOv",
        "outputId": "a4eaf4b7-3690-46fd-ddfe-10c80b744395"
      },
      "execution_count": null,
      "outputs": [
        {
          "output_type": "stream",
          "name": "stdout",
          "text": [
            "[1 2 3 4 5 6]\n"
          ]
        }
      ]
    },
    {
      "cell_type": "code",
      "source": [
        "var_array1 = np.array([[[1, 2, 3], [4, 5, 6]], [[7, 8, 9], [10, 11, 12]]])\n",
        "var_array2 = np.array([[[4, 7, 9], [1, 6, 2]], [[3, 5, 8], [19, 10, 14]]])\n",
        "\n",
        "arr = np.concatenate((var_array1, var_array2))\n",
        "print(arr)"
      ],
      "metadata": {
        "colab": {
          "base_uri": "https://localhost:8080/"
        },
        "id": "a2VusJj6hmAB",
        "outputId": "5e343bb2-ce60-457e-a2f6-98f7a800fd9d"
      },
      "execution_count": null,
      "outputs": [
        {
          "output_type": "stream",
          "name": "stdout",
          "text": [
            "[[[ 1  2  3]\n",
            "  [ 4  5  6]]\n",
            "\n",
            " [[ 7  8  9]\n",
            "  [10 11 12]]\n",
            "\n",
            " [[ 4  7  9]\n",
            "  [ 1  6  2]]\n",
            "\n",
            " [[ 3  5  8]\n",
            "  [19 10 14]]]\n"
          ]
        }
      ]
    },
    {
      "cell_type": "code",
      "source": [
        "#@title Stack\n",
        "\n",
        "arr1 = np.array([1, 2, 3])\n",
        "arr2 = np.array([4, 5, 6])\n",
        "\n",
        "# arr = np.stack((arr1, arr2))\n",
        "# arr = np.hstack((arr1, arr2))\n",
        "arr = np.vstack((arr1, arr2))\n",
        "# arr = np.dstack((arr1, arr2))\n",
        "\n",
        "print(arr)"
      ],
      "metadata": {
        "colab": {
          "base_uri": "https://localhost:8080/"
        },
        "id": "quCBNSDeMYGT",
        "outputId": "a9eaf47a-68dc-4d0b-a233-c926326233eb"
      },
      "execution_count": null,
      "outputs": [
        {
          "output_type": "stream",
          "name": "stdout",
          "text": [
            "[[1 2 3]\n",
            " [4 5 6]]\n"
          ]
        }
      ]
    },
    {
      "cell_type": "markdown",
      "source": [
        "## Numpy Splitting"
      ],
      "metadata": {
        "id": "8Im0vogqNXAd"
      }
    },
    {
      "cell_type": "code",
      "source": [
        "# 1-D\n",
        "arr = np.array([1, 2, 3, 4, 5, 6])\n",
        "newarr = np.array_split(arr, 3)\n",
        "\n",
        "print(newarr)"
      ],
      "metadata": {
        "colab": {
          "base_uri": "https://localhost:8080/"
        },
        "id": "Y-3UAsZ-Mwsi",
        "outputId": "2c73a3af-0838-4430-d269-9a6444c3409d"
      },
      "execution_count": null,
      "outputs": [
        {
          "output_type": "stream",
          "name": "stdout",
          "text": [
            "[array([1, 2]), array([3, 4]), array([5, 6])]\n"
          ]
        }
      ]
    },
    {
      "cell_type": "code",
      "source": [
        "# 2-D\n",
        "arr = np.array([[1, 2], [3, 4], [5, 6], [7, 8], [9, 10], [11, 12]])\n",
        "newarr = np.array_split(arr, 3)\n",
        "\n",
        "print(newarr)"
      ],
      "metadata": {
        "colab": {
          "base_uri": "https://localhost:8080/"
        },
        "id": "bYP_BmtzNgH7",
        "outputId": "f132ae49-3921-437e-e700-043d9fde5db0"
      },
      "execution_count": null,
      "outputs": [
        {
          "output_type": "stream",
          "name": "stdout",
          "text": [
            "[array([[1, 2],\n",
            "       [3, 4]]), array([[5, 6],\n",
            "       [7, 8]]), array([[ 9, 10],\n",
            "       [11, 12]])]\n"
          ]
        }
      ]
    },
    {
      "cell_type": "code",
      "source": [
        "# 3-D\n",
        "arr = np.array([[[1, 2, 3], [4, 5, 6]], [[1, 2, 3], [4, 5, 6]]])\n",
        "newarr = np.array_split(arr, 2)\n",
        "\n",
        "print(newarr)"
      ],
      "metadata": {
        "colab": {
          "base_uri": "https://localhost:8080/"
        },
        "id": "r9cMUI_TNvCD",
        "outputId": "2bc65cfe-6460-46ae-9bc9-c83005350709"
      },
      "execution_count": null,
      "outputs": [
        {
          "output_type": "stream",
          "name": "stdout",
          "text": [
            "[array([[[1, 2, 3],\n",
            "        [4, 5, 6]]]), array([[[1, 2, 3],\n",
            "        [4, 5, 6]]])]\n"
          ]
        }
      ]
    },
    {
      "cell_type": "markdown",
      "source": [
        "## Numpy Matriks"
      ],
      "metadata": {
        "id": "SxA4iVwtOY4T"
      }
    },
    {
      "cell_type": "code",
      "source": [
        "matriks = [[1,2,3],\n",
        "           [4,5,6],\n",
        "           [7,8,9]]\n",
        "\n",
        "matrik_np = np.array(matriks)\n",
        "print(matrik_np)"
      ],
      "metadata": {
        "colab": {
          "base_uri": "https://localhost:8080/"
        },
        "id": "Yfw8yK-XOcxe",
        "outputId": "ed880e8a-a99e-4af0-d18f-0884d5c4c5ea"
      },
      "execution_count": null,
      "outputs": [
        {
          "output_type": "stream",
          "name": "stdout",
          "text": [
            "[[1 2 3]\n",
            " [4 5 6]\n",
            " [7 8 9]]\n"
          ]
        }
      ]
    },
    {
      "cell_type": "code",
      "source": [
        "#@title Operasi matrik\n",
        "\n",
        "matrik_a = np.array([\n",
        "    [1, 2, 3],\n",
        "    [4, 5, 6],\n",
        "    [7, 8, 9]])\n",
        "\n",
        "matrik_b = np.array([\n",
        "    [3, 2, 1],\n",
        "    [6, 5, 4],\n",
        "    [9, 8, 7]])\n",
        "\n",
        "\n",
        "hasil = matrik_a + matrik_b\n",
        "print(\"Hasil Penjumlahan:\")\n",
        "print(hasil)"
      ],
      "metadata": {
        "colab": {
          "base_uri": "https://localhost:8080/"
        },
        "id": "Hz-yOa3rO_7j",
        "outputId": "e63550e6-286b-47d2-959f-cb608b30bf00"
      },
      "execution_count": null,
      "outputs": [
        {
          "output_type": "stream",
          "name": "stdout",
          "text": [
            "Hasil Penjumlahan:\n",
            "[[ 4  4  4]\n",
            " [10 10 10]\n",
            " [16 16 16]]\n"
          ]
        }
      ]
    },
    {
      "cell_type": "code",
      "source": [
        "hasil = matrik_a - matrik_b\n",
        "print(\"Hasil Pengurangan:\")\n",
        "print(hasil)"
      ],
      "metadata": {
        "colab": {
          "base_uri": "https://localhost:8080/"
        },
        "id": "bHFujpfZPPb3",
        "outputId": "f13a4678-8d5b-4da7-ccd4-166a5d453a74"
      },
      "execution_count": null,
      "outputs": [
        {
          "output_type": "stream",
          "name": "stdout",
          "text": [
            "Hasil Pengurangan:\n",
            "[[-2  0  2]\n",
            " [-2  0  2]\n",
            " [-2  0  2]]\n"
          ]
        }
      ]
    },
    {
      "cell_type": "code",
      "source": [
        "# pangkat dengan power()\n",
        "\n",
        "result_power = np.power(matrik_a, 2)\n",
        "print(\"Hasil Perhitungan Pangkat (matrik_a pangkat 2):\")\n",
        "print(result_power)"
      ],
      "metadata": {
        "colab": {
          "base_uri": "https://localhost:8080/"
        },
        "id": "5lo_7Ur9Prco",
        "outputId": "f54b3ae8-7c96-48d0-fa72-3c491e641eb7"
      },
      "execution_count": null,
      "outputs": [
        {
          "output_type": "stream",
          "name": "stdout",
          "text": [
            "Hasil Perhitungan Pangkat (matrik_a pangkat 2):\n",
            "[[ 1  4  9]\n",
            " [16 25 36]\n",
            " [49 64 81]]\n"
          ]
        }
      ]
    },
    {
      "cell_type": "code",
      "source": [
        "# trigonometri dengan sin()\n",
        "\n",
        "result_power = np.sin(matrik_a)\n",
        "print(\"Hasil sin matrik_a:\")\n",
        "print(result_power)"
      ],
      "metadata": {
        "colab": {
          "base_uri": "https://localhost:8080/"
        },
        "id": "i-uvGqNBQARt",
        "outputId": "f0fb29d5-1551-4bf4-8ae1-932075504326"
      },
      "execution_count": null,
      "outputs": [
        {
          "output_type": "stream",
          "name": "stdout",
          "text": [
            "Hasil sin matrik_a:\n",
            "[[ 0.84147098  0.90929743  0.14112001]\n",
            " [-0.7568025  -0.95892427 -0.2794155 ]\n",
            " [ 0.6569866   0.98935825  0.41211849]]\n"
          ]
        }
      ]
    },
    {
      "cell_type": "code",
      "source": [
        "#@title Transpose matrik\n",
        "\n",
        "matrik_a = np.array([\n",
        "    [1, 2, 3],\n",
        "    [4, 5, 6],\n",
        "    [7, 8, 9]])\n",
        "\n",
        "print(\"Matrik awal: \")\n",
        "print(matrik_a)\n",
        "\n",
        "\n",
        "hasil = matrik_a.transpose()\n",
        "print(\"\\nMatrik kebalikan: \")\n",
        "print(hasil)"
      ],
      "metadata": {
        "colab": {
          "base_uri": "https://localhost:8080/"
        },
        "id": "G26arLORQYQb",
        "outputId": "b889f045-5840-46f0-8a4f-2399fc105784"
      },
      "execution_count": null,
      "outputs": [
        {
          "output_type": "stream",
          "name": "stdout",
          "text": [
            "Matrik awal: \n",
            "[[1 2 3]\n",
            " [4 5 6]\n",
            " [7 8 9]]\n",
            "\n",
            "Matrik kebalikan: \n",
            "[[1 4 7]\n",
            " [2 5 8]\n",
            " [3 6 9]]\n"
          ]
        }
      ]
    },
    {
      "cell_type": "code",
      "source": [
        "#@title Reshape matrik\n",
        "\n",
        "matrik_a = np.array([1, 2, 3, 4, 5, 6])\n",
        "\n",
        "print(\"Matrik awal: \")\n",
        "print(matrik_a)\n",
        "print(\"Ukuran = \", matrik_a.shape)\n",
        "\n",
        "# mengubah ukran ke 3x2\n",
        "hasil = matrik_a.reshape(3, 2)\n",
        "\n",
        "print(\"\\nMengubah ke 3x2: \")\n",
        "print(hasil)\n",
        "print(\"Ukuran = \", hasil.shape)"
      ],
      "metadata": {
        "colab": {
          "base_uri": "https://localhost:8080/"
        },
        "id": "WFsHSCEgQrBU",
        "outputId": "a0cfaab8-e3eb-4824-e4c3-275f8338d34c"
      },
      "execution_count": null,
      "outputs": [
        {
          "output_type": "stream",
          "name": "stdout",
          "text": [
            "Matrik awal: \n",
            "[1 2 3 4 5 6]\n",
            "Ukuran =  (6,)\n",
            "\n",
            "Mengubah ke 3x2: \n",
            "[[1 2]\n",
            " [3 4]\n",
            " [5 6]]\n",
            "Ukuran =  (3, 2)\n"
          ]
        }
      ]
    },
    {
      "cell_type": "code",
      "source": [
        "#@title Matrik flatten\n",
        "\n",
        "matrik_a = np.array([\n",
        "    [1, 2, 3],\n",
        "    [4, 5, 6],\n",
        "    [7, 8, 9]])\n",
        "\n",
        "print(\"Matrik awal: \")\n",
        "print(matrik_a)\n",
        "print(\"Ukuran = \", matrik_a.shape)\n",
        "\n",
        "hasil = matrik_a.flatten()\n",
        "\n",
        "print(\"\\nMatrik setelah di-flatten: \")\n",
        "print(hasil)\n",
        "print(\"Ukuran = \", hasil.shape)"
      ],
      "metadata": {
        "colab": {
          "base_uri": "https://localhost:8080/"
        },
        "id": "Ywm8X8viRMLB",
        "outputId": "addfcde8-818d-4631-b321-a06aee5b7865"
      },
      "execution_count": null,
      "outputs": [
        {
          "output_type": "stream",
          "name": "stdout",
          "text": [
            "Matrik awal: \n",
            "[[1 2 3]\n",
            " [4 5 6]\n",
            " [7 8 9]]\n",
            "Ukuran =  (3, 3)\n",
            "\n",
            "Matrik setelah di-flatten: \n",
            "[1 2 3 4 5 6 7 8 9]\n",
            "Ukuran =  (9,)\n"
          ]
        }
      ]
    },
    {
      "cell_type": "markdown",
      "source": [
        "## Numpy Statistik"
      ],
      "metadata": {
        "id": "lg_F01VMRqo8"
      }
    },
    {
      "cell_type": "code",
      "source": [
        "#@title rata-rata (mean)\n",
        "\n",
        "data = np.array([12, 15, 18, 22, 30, 35, 40, 45, 55, 65])\n",
        "\n",
        "mean = np.mean(data)\n",
        "print(\"Rata-rata (mean):\", mean)"
      ],
      "metadata": {
        "colab": {
          "base_uri": "https://localhost:8080/"
        },
        "id": "leAMMl5jRtnc",
        "outputId": "449cd43f-d559-4d91-d7c0-5d8a7d6c54c4"
      },
      "execution_count": null,
      "outputs": [
        {
          "output_type": "stream",
          "name": "stdout",
          "text": [
            "Rata-rata (mean): 33.7\n"
          ]
        }
      ]
    },
    {
      "cell_type": "code",
      "source": [
        "#@title median\n",
        "\n",
        "median = np.median(data)\n",
        "print(\"Median:\", median)"
      ],
      "metadata": {
        "colab": {
          "base_uri": "https://localhost:8080/"
        },
        "id": "6HKY1kjfRz0E",
        "outputId": "6bea6df1-61ad-490e-bd98-ce55399c18fc"
      },
      "execution_count": null,
      "outputs": [
        {
          "output_type": "stream",
          "name": "stdout",
          "text": [
            "Median: 32.5\n"
          ]
        }
      ]
    },
    {
      "cell_type": "code",
      "source": [
        "#@title standard deviation\n",
        "\n",
        "std_deviation = np.std(data)\n",
        "print(\"Deviasi Standar (standard deviation):\", std_deviation)"
      ],
      "metadata": {
        "colab": {
          "base_uri": "https://localhost:8080/"
        },
        "id": "mV5b4nxpSET5",
        "outputId": "3fa779de-94ef-4224-9950-73b83b2c5cfb"
      },
      "execution_count": null,
      "outputs": [
        {
          "output_type": "stream",
          "name": "stdout",
          "text": [
            "Deviasi Standar (standard deviation): 16.79315336677421\n"
          ]
        }
      ]
    },
    {
      "cell_type": "code",
      "source": [
        "#@title variansi (variance)\n",
        "\n",
        "variance = np.var(data)\n",
        "print(\"Variansi (variance):\", variance)"
      ],
      "metadata": {
        "colab": {
          "base_uri": "https://localhost:8080/"
        },
        "id": "c125S8cpSKuu",
        "outputId": "47f49aae-dadf-4f65-c0cc-e67ba8f1aa89"
      },
      "execution_count": null,
      "outputs": [
        {
          "output_type": "stream",
          "name": "stdout",
          "text": [
            "Variansi (variance): 282.01\n"
          ]
        }
      ]
    },
    {
      "cell_type": "code",
      "source": [
        "#@title minimum dan maksimum\n",
        "\n",
        "minimum = np.min(data)\n",
        "maximum = np.max(data)\n",
        "print(\"Nilai Minimum:\", minimum)\n",
        "print(\"Nilai Maksimum:\", maximum)"
      ],
      "metadata": {
        "colab": {
          "base_uri": "https://localhost:8080/"
        },
        "id": "HqPLQuc0SQ7i",
        "outputId": "d082319e-2b58-44ee-bce3-bb5df58cd3cf"
      },
      "execution_count": null,
      "outputs": [
        {
          "output_type": "stream",
          "name": "stdout",
          "text": [
            "Nilai Minimum: 12\n",
            "Nilai Maksimum: 65\n"
          ]
        }
      ]
    },
    {
      "cell_type": "code",
      "source": [
        "#@title quartile\n",
        "\n",
        "# Menghitung kuartil pertama (Q1) dan kuartil ketiga (Q3)\n",
        "q1 = np.percentile(data, 25)\n",
        "q3 = np.percentile(data, 75)\n",
        "print(\"Kuartil Pertama (Q1):\", q1)\n",
        "print(\"Kuartil Ketiga (Q3):\", q3)\n",
        "\n",
        "\n",
        "# Menghitung rentang interkuartil (IQR)\n",
        "iqr = q3 - q1\n",
        "print(\"Rentang Interkuartil (IQR):\", iqr)"
      ],
      "metadata": {
        "colab": {
          "base_uri": "https://localhost:8080/"
        },
        "id": "kvH8VLXRSWWF",
        "outputId": "31ddbcd7-1c31-439a-c2b0-dbb84b7605f4"
      },
      "execution_count": null,
      "outputs": [
        {
          "output_type": "stream",
          "name": "stdout",
          "text": [
            "Kuartil Pertama (Q1): 19.0\n",
            "Kuartil Ketiga (Q3): 43.75\n",
            "Rentang Interkuartil (IQR): 24.75\n"
          ]
        }
      ]
    },
    {
      "cell_type": "markdown",
      "source": [
        "## Soal 1\n",
        "\n",
        "Buat contoh :\n",
        "\n",
        "* numpy array (1D, 2D, 3D)\n",
        "* numpy join\n",
        "* numpy split\n",
        "* operasi matrik"
      ],
      "metadata": {
        "id": "DGpiGKJ7WxX-"
      }
    },
    {
      "cell_type": "code",
      "source": [
        "import numpy as np"
      ],
      "metadata": {
        "id": "OkR0hT_2s7IF"
      },
      "execution_count": null,
      "outputs": []
    },
    {
      "cell_type": "markdown",
      "source": [
        "**- NUMPY ARRAY (1D, 2D, 3D)**"
      ],
      "metadata": {
        "id": "0SxcbSd9wVYa"
      }
    },
    {
      "cell_type": "code",
      "source": [
        "#NUMPY ARRAY (1D, 2D, 3D)\n",
        "# 1D ARRAY - MEMBUAT ARRAY 1 DIMENSI\n",
        "array_1d = np.array([10, 20, 30, 40, 50])\n",
        "print(\"Array 1D:\")\n",
        "print(array_1d)\n",
        "\n",
        "# 2D ARRAY - MEMBUAT ARRAY 2 DIMENSI\n",
        "array_2d = np.array([[5, 10, 15], [20, 25, 30]])\n",
        "print(\"\\nArray 2D:\")\n",
        "print(array_2d)\n",
        "\n",
        "# 3D ARRAY - MEMBUAT ARRAY 3 DIMENSI\n",
        "array_3d = np.array([[[2, 4], [6, 8]], [[10, 12], [14, 16]]])\n",
        "print(\"\\nArray 3D:\")\n",
        "print(array_3d)\n"
      ],
      "metadata": {
        "colab": {
          "base_uri": "https://localhost:8080/"
        },
        "id": "888e4_GAsXy_",
        "outputId": "db33887d-0737-40ce-b4d4-47fff27d49b2"
      },
      "execution_count": null,
      "outputs": [
        {
          "output_type": "stream",
          "name": "stdout",
          "text": [
            "Array 1D:\n",
            "[10 20 30 40 50]\n",
            "\n",
            "Array 2D:\n",
            "[[ 5 10 15]\n",
            " [20 25 30]]\n",
            "\n",
            "Array 3D:\n",
            "[[[ 2  4]\n",
            "  [ 6  8]]\n",
            "\n",
            " [[10 12]\n",
            "  [14 16]]]\n"
          ]
        }
      ]
    },
    {
      "cell_type": "markdown",
      "source": [
        "**- NUMPY JOIN**"
      ],
      "metadata": {
        "id": "mOukb1l_wR3M"
      }
    },
    {
      "cell_type": "code",
      "source": [
        "#NUMPY JOIN\n",
        "#MENGGABUNGKAN DUA ARRAY 1D\n",
        "array_1 = np.array([3, 6, 9])\n",
        "array_2 = np.array([12, 15, 18])\n",
        "joined_array = np.concatenate((array_1, array_2)) #MEMAKAI .CONCATENATE\n",
        "print(\"Joined Array 1D:\", joined_array)"
      ],
      "metadata": {
        "colab": {
          "base_uri": "https://localhost:8080/"
        },
        "id": "tZ7S0sc9tFSU",
        "outputId": "15f5de91-f325-44f0-9273-013e75e2e8a1"
      },
      "execution_count": null,
      "outputs": [
        {
          "output_type": "stream",
          "name": "stdout",
          "text": [
            "Joined Array 1D: [ 3  6  9 12 15 18]\n"
          ]
        }
      ]
    },
    {
      "cell_type": "markdown",
      "source": [
        "**- NUMPY SPLIT**"
      ],
      "metadata": {
        "id": "PH0njLsuwOfZ"
      }
    },
    {
      "cell_type": "code",
      "source": [
        "#NUMPY SPLIT\n",
        "#MEMBAGI JOINED_ARRAY MENJADI 3 BAGIAN\n",
        "split_array = np.array_split(joined_array, 3)\n",
        "print(\"Split Array 1D:\", split_array)"
      ],
      "metadata": {
        "colab": {
          "base_uri": "https://localhost:8080/"
        },
        "id": "Idc49efStZne",
        "outputId": "efda64fc-7689-411a-a37f-7e9ad22540e8"
      },
      "execution_count": null,
      "outputs": [
        {
          "output_type": "stream",
          "name": "stdout",
          "text": [
            "Split Array 1D: [array([3, 6]), array([ 9, 12]), array([15, 18])]\n"
          ]
        }
      ]
    },
    {
      "cell_type": "markdown",
      "source": [
        "**- OPERASI MATRIKS (PENJUMLAHAN DAN PENGURANGAN)**\n",
        "\n",
        "\n",
        "\n"
      ],
      "metadata": {
        "id": "dFRoqTZyv-zq"
      }
    },
    {
      "cell_type": "code",
      "source": [
        "#OPERASI MATRIKS\n",
        "matriks1 = np.array([[2, 3], [4, 5]])\n",
        "matriks2 = np.array([[6, 7], [8, 9]])\n",
        "\n",
        "#PENJUMLAHAN MATRIKS 2D\n",
        "hasil = matriks1 + matriks2\n",
        "print(\"Hasil Penjumlahan:\")\n",
        "print(hasil)\n",
        "# #CARA LAIN DENGAN .ADD\n",
        "# matrix_sum = np.add(matriks1, matriks2)\n",
        "# print(\"Hasil Penjumlahan:\")\n",
        "# print(matrix_sum)\n",
        "\n",
        "#PENGURANGAN MATRIKS 2D\n",
        "hasil = matriks1 - matriks2\n",
        "print(\"\\nHasil Pengurangan:\")\n",
        "print(hasil)\n",
        "# #CARA LAIN DENGAN .SUBTRACT\n",
        "# matrix_subtr = np.subtract(matriks1, matriks2)\n",
        "# print(\"Hasil Pengurangan:\")\n",
        "# print(matrix_subtr)"
      ],
      "metadata": {
        "colab": {
          "base_uri": "https://localhost:8080/"
        },
        "id": "LNQ2yyEPtw_g",
        "outputId": "d7da41a5-6f5a-4699-b07a-89464b980dae"
      },
      "execution_count": null,
      "outputs": [
        {
          "output_type": "stream",
          "name": "stdout",
          "text": [
            "Hasil Penjumlahan:\n",
            "[[ 8 10]\n",
            " [12 14]]\n",
            "\n",
            "Hasil Pengurangan:\n",
            "[[-4 -4]\n",
            " [-4 -4]]\n"
          ]
        }
      ]
    },
    {
      "cell_type": "markdown",
      "source": [
        "## Soal 2\n",
        "\n",
        "* Buatlah numpy array dengan matrik ukuran 3x4 dan range array 10-30\n",
        "* Kemudian lakukan flatten\n",
        "* cari nilai statistik (mean, median, dsb)"
      ],
      "metadata": {
        "id": "t1PLm38lSw8u"
      }
    },
    {
      "cell_type": "markdown",
      "source": [
        "**- MEMBUAT ARRAY**"
      ],
      "metadata": {
        "id": "wgveMgd0yyrB"
      }
    },
    {
      "cell_type": "code",
      "source": [
        "#MEMBUAT ARRAY 3x4 DENGAN RANGE ANGKA 10-30\n",
        "matriks = np.arange(10, 22).reshape(3, 4) #MATRIKS 3X4 BERISI 12 ELEMEN SAJA SEHINGGA DIPILIH 10-22 DARI RANGE 10-30\n",
        "print(\"Matriks 3x4:\")\n",
        "print(matriks)"
      ],
      "metadata": {
        "colab": {
          "base_uri": "https://localhost:8080/"
        },
        "id": "-LiUa2dcwti2",
        "outputId": "3529f98f-54fd-4296-a062-18765e023736"
      },
      "execution_count": null,
      "outputs": [
        {
          "output_type": "stream",
          "name": "stdout",
          "text": [
            "Matriks 3x4:\n",
            "[[10 11 12 13]\n",
            " [14 15 16 17]\n",
            " [18 19 20 21]]\n"
          ]
        }
      ]
    },
    {
      "cell_type": "markdown",
      "source": [
        "**- MELAKUKAN FLATTEN**"
      ],
      "metadata": {
        "id": "SdwFF01Cy3zi"
      }
    },
    {
      "cell_type": "code",
      "source": [
        "# MELAKUKAN FLATTEN\n",
        "flattened_matriks = matriks.flatten()\n",
        "print(\"Matriks Setelah Flatten:\")\n",
        "print(flattened_matriks)"
      ],
      "metadata": {
        "colab": {
          "base_uri": "https://localhost:8080/"
        },
        "id": "KvHqMS90y7sl",
        "outputId": "b3db1d71-c99d-4aa8-c10c-517b2cac40ee"
      },
      "execution_count": null,
      "outputs": [
        {
          "output_type": "stream",
          "name": "stdout",
          "text": [
            "Matriks Setelah Flatten:\n",
            "[10 11 12 13 14 15 16 17 18 19 20 21]\n"
          ]
        }
      ]
    },
    {
      "cell_type": "markdown",
      "source": [
        "**- MENGHITUNG STATISTIK**"
      ],
      "metadata": {
        "id": "yScyNFo7y9yn"
      }
    },
    {
      "cell_type": "code",
      "source": [
        "# MENGHITUNG STATISTIK\n",
        "mean_value = np.mean(flattened_matriks)         #RATA-RATA\n",
        "median_value = np.median(flattened_matriks)     #MEDIAN\n",
        "std_value = np.std(flattened_matriks)           #STANDAR DEVIASI\n",
        "var_value = np.var(flattened_matriks)           #VARIANSI\n",
        "min_value = np.min(flattened_matriks)           #NILAI MINIMUM\n",
        "max_value = np.max(flattened_matriks)           #NILAI MAKSIMUM\n",
        "q1_value = np.percentile(flattened_matriks, 25) #KUARTIL1\n",
        "q3_value = np.percentile(flattened_matriks, 75) #KUARTIL3\n",
        "iqr = q3_value - q1_value                       #RENTANG IQR\n",
        "\n",
        "# MENAMPILKAN NILAI STATISTIK\n",
        "print(\"Statistik Matriks:\")\n",
        "print(f\"Mean: {mean_value}\")\n",
        "print(f\"Median: {median_value}\")\n",
        "print(f\"Min: {min_value}\")\n",
        "print(f\"Max: {max_value}\")\n",
        "print(f\"Standar Deviasi: {std_value}\")\n",
        "print(f\"Variansi: {var_value}\")\n",
        "print(f\"Kuartil Pertama (Q1): {q1_value}\")\n",
        "print(f\"Kuartil Ketiga (Q3): {q3_value}\")\n",
        "print(f\"Rentang Interkuartil (IQR): {iqr}\")"
      ],
      "metadata": {
        "colab": {
          "base_uri": "https://localhost:8080/"
        },
        "id": "DQi5BY4zzApa",
        "outputId": "74a04b7c-9314-4deb-e8dd-5744ef1adc7b"
      },
      "execution_count": null,
      "outputs": [
        {
          "output_type": "stream",
          "name": "stdout",
          "text": [
            "Statistik Matriks:\n",
            "Mean: 15.5\n",
            "Median: 15.5\n",
            "Min: 10\n",
            "Max: 21\n",
            "Standar Deviasi: 3.452052529534663\n",
            "Variansi: 11.916666666666666\n",
            "Kuartil Pertama (Q1): 12.75\n",
            "Kuartil Ketiga (Q3): 18.25\n",
            "Rentang Interkuartil (IQR): 5.5\n"
          ]
        }
      ]
    }
  ]
}