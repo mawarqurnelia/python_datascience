{
  "nbformat": 4,
  "nbformat_minor": 0,
  "metadata": {
    "colab": {
      "provenance": [],
      "authorship_tag": "ABX9TyO4yfSA4C3RNoUnmBXKeK5N",
      "include_colab_link": true
    },
    "kernelspec": {
      "name": "python3",
      "display_name": "Python 3"
    },
    "language_info": {
      "name": "python"
    }
  },
  "cells": [
    {
      "cell_type": "markdown",
      "metadata": {
        "id": "view-in-github",
        "colab_type": "text"
      },
      "source": [
        "<a href=\"https://colab.research.google.com/github/mawarqurnelia/python_datascience/blob/main/intro_mawar.ipynb\" target=\"_parent\"><img src=\"https://colab.research.google.com/assets/colab-badge.svg\" alt=\"Open In Colab\"/></a>"
      ]
    },
    {
      "cell_type": "markdown",
      "source": [
        "# **SOAL**"
      ],
      "metadata": {
        "id": "IG9Qfv0qQGi2"
      }
    },
    {
      "cell_type": "markdown",
      "source": [
        "Budi tertarik untuk melamar pekerjaan pada liburan semester yang akan berlangsung selama 5 minggu. Gaji yang diberikan adalah gaji\n",
        "per jam. Total pajak yang harus budi bayarkan dari penghasilannya selama bekerja adalah 14%. Setelah membayar pajak, budi menghabiskan 10% dari pendapatan bersihnya untuk membeli baju dan aksesoris yang akan digunakan pada semester baru, dan 1% untuk membeli alat tulis. Setelah membeli baju, aksesons dan alat tulis, Budi menggunakan 25% dari sisa uangnya untuk disedekahkan. Setiap Rp. 1000 yang Budi sedekahkan 30% nya akan diserahkan kepada anak yatim, dan sisanya akan diserahkan ke kaum dhuafa.\n",
        "\n",
        "Hitung\n",
        "1. Pendapatan Budi selama libur musim panas sebelum melakukan pembayaran pajak.\n",
        "2. Pendapatan Budi selama libur musim panas setelah melakukan pembayaran pajak\n",
        "3. Jumlah uang yang akan Budi habiskan untuk membeli pakaian dan aksesoris.\n",
        "4. Jumlah uang yang akan Budi habiskan untuk membeli alat tulis.\n",
        "5. Jumlah uang yang akan Budi sedekahkan.\n",
        "6. Jumlah uang yang akan diterima anak yatim.\n",
        "7. Jumlah uang yang akan diterima kaum dhuafa."
      ],
      "metadata": {
        "id": "EBkNw28uOO0w"
      }
    },
    {
      "cell_type": "code",
      "execution_count": 9,
      "metadata": {
        "id": "HieVBHrYOGlo",
        "colab": {
          "base_uri": "https://localhost:8080/"
        },
        "outputId": "982cf9f5-1003-4bd6-a5ee-77a1fa330e86"
      },
      "outputs": [
        {
          "name": "stdout",
          "output_type": "stream",
          "text": [
            "Masukkan gaji per jam (dalam Rp): 50000\n",
            "Masukkan jam kerja per minggu: 45\n"
          ]
        }
      ],
      "source": [
        "# Input\n",
        "gaji = float(input(\"Masukkan gaji per jam (dalam Rp): \"))\n",
        "jam_kerja = float(input(\"Masukkan jam kerja per minggu: \"))"
      ]
    },
    {
      "cell_type": "code",
      "source": [
        "# Total minggu liburan\n",
        "minggu_liburan = 5"
      ],
      "metadata": {
        "id": "V7_b9UyJPs7E"
      },
      "execution_count": 10,
      "outputs": []
    },
    {
      "cell_type": "markdown",
      "source": [
        "**1. Pendapatan Budi selama libur musim panas sebelum pajak**"
      ],
      "metadata": {
        "id": "HkIvEe6tOtrM"
      }
    },
    {
      "cell_type": "code",
      "source": [
        "pendapatan_sebelum_pajak = gaji * jam_kerja * minggu_liburan\n",
        "print(f\"Pendapatan Budi sebelum pajak: Rp {pendapatan_sebelum_pajak:}\")"
      ],
      "metadata": {
        "id": "JKHvoekPOsyz",
        "colab": {
          "base_uri": "https://localhost:8080/"
        },
        "outputId": "7ddc4083-092f-495f-b679-119dec0a8053"
      },
      "execution_count": 11,
      "outputs": [
        {
          "output_type": "stream",
          "name": "stdout",
          "text": [
            "Pendapatan Budi sebelum pajak: Rp 11250000.0\n"
          ]
        }
      ]
    },
    {
      "cell_type": "markdown",
      "source": [
        "**2. Pendapatan Budi selama libur musim panas setelah melakukan pembayaran pajak.**"
      ],
      "metadata": {
        "id": "DBUw0OCIO4JJ"
      }
    },
    {
      "cell_type": "code",
      "source": [
        "pajak = 0.14\n",
        "pendapatan_setelah_pajak = pendapatan_sebelum_pajak * (1 - pajak)\n",
        "print(f\"Pendapatan Budi setelah pajak: Rp {pendapatan_setelah_pajak:}\")"
      ],
      "metadata": {
        "id": "aU3zulDBO4Zf",
        "colab": {
          "base_uri": "https://localhost:8080/"
        },
        "outputId": "40954b8c-3c5a-49c1-b8ec-d59bb8bafd29"
      },
      "execution_count": 12,
      "outputs": [
        {
          "output_type": "stream",
          "name": "stdout",
          "text": [
            "Pendapatan Budi setelah pajak: Rp 9675000.0\n"
          ]
        }
      ]
    },
    {
      "cell_type": "markdown",
      "source": [
        "**3. Jumlah uang yang akan Budi habiskan untuk membeli pakaian dan aksesoris.**"
      ],
      "metadata": {
        "id": "svqRpOUQO4nJ"
      }
    },
    {
      "cell_type": "code",
      "source": [
        "uang_pakaian_aksesoris = pendapatan_setelah_pajak * 0.10\n",
        "print(f\"Jumlah uang untuk membeli baju dan aksesoris: Rp {uang_pakaian_aksesoris:}\")"
      ],
      "metadata": {
        "id": "FztPw8WKO4yy",
        "colab": {
          "base_uri": "https://localhost:8080/"
        },
        "outputId": "bb75105d-ba7e-4fdc-ec77-4430796ae0b8"
      },
      "execution_count": 13,
      "outputs": [
        {
          "output_type": "stream",
          "name": "stdout",
          "text": [
            "Jumlah uang untuk membeli baju dan aksesoris: Rp 967500.0\n"
          ]
        }
      ]
    },
    {
      "cell_type": "markdown",
      "source": [
        "**4. Jumlah uang yang akan Budi habiskan untuk membeli alat tulis.**"
      ],
      "metadata": {
        "id": "vRG6GsldPPXq"
      }
    },
    {
      "cell_type": "code",
      "source": [
        "uang_alat_tulis = pendapatan_setelah_pajak * 0.01\n",
        "print(f\"Jumlah uang untuk membeli alat tulis: Rp {uang_alat_tulis:}\")"
      ],
      "metadata": {
        "id": "QgdnhAHqPPnh",
        "colab": {
          "base_uri": "https://localhost:8080/"
        },
        "outputId": "428c7e5f-6b1f-4870-9bb6-bf6304a7f72e"
      },
      "execution_count": 14,
      "outputs": [
        {
          "output_type": "stream",
          "name": "stdout",
          "text": [
            "Jumlah uang untuk membeli alat tulis: Rp 96750.0\n"
          ]
        }
      ]
    },
    {
      "cell_type": "markdown",
      "source": [
        "**5. Jumlah uang yang akan Budi sedekahkan.**"
      ],
      "metadata": {
        "id": "a-erj2jYPZwa"
      }
    },
    {
      "cell_type": "code",
      "source": [
        "sisa_uang = pendapatan_setelah_pajak - (uang_pakaian_aksesoris + uang_alat_tulis)\n",
        "uang_sedekah = sisa_uang * 0.25\n",
        "print(f\"Jumlah uang yang akan disedekahkan: Rp {uang_sedekah:}\")"
      ],
      "metadata": {
        "id": "1iF6HSuSPaAC",
        "colab": {
          "base_uri": "https://localhost:8080/"
        },
        "outputId": "2ba5a835-d0f0-43c3-8c56-4e8b00dd68e0"
      },
      "execution_count": 19,
      "outputs": [
        {
          "output_type": "stream",
          "name": "stdout",
          "text": [
            "Jumlah uang yang akan disedekahkan: Rp 2152687.5\n"
          ]
        }
      ]
    },
    {
      "cell_type": "markdown",
      "source": [
        "**6. Jumlah uang yang akan diterima anak yatim.**"
      ],
      "metadata": {
        "id": "bco-n63xPaQ9"
      }
    },
    {
      "cell_type": "code",
      "source": [
        "uang_anak_yatim = uang_sedekah * 0.30\n",
        "print(f\"Jumlah uang yang akan diterima anak yatim: Rp {uang_anak_yatim:}\")"
      ],
      "metadata": {
        "id": "RTDf6Wg3Pa9Z",
        "colab": {
          "base_uri": "https://localhost:8080/"
        },
        "outputId": "d0f7e0b0-cfaa-4ea2-82cf-bf1e01d69c33"
      },
      "execution_count": 20,
      "outputs": [
        {
          "output_type": "stream",
          "name": "stdout",
          "text": [
            "Jumlah uang yang akan diterima anak yatim: Rp 645806.25\n"
          ]
        }
      ]
    },
    {
      "cell_type": "markdown",
      "source": [
        "**7. Jumlah uang yang akan diterima kaum dhuafa.**"
      ],
      "metadata": {
        "id": "wZWgF1VDPbgA"
      }
    },
    {
      "cell_type": "code",
      "source": [
        "uang_kaum_dhuafa = uang_sedekah * 0.70\n",
        "print(f\"Jumlah uang yang akan diterima kaum dhuafa: Rp {uang_kaum_dhuafa:}\")"
      ],
      "metadata": {
        "id": "hFbaxwbXPcBA",
        "colab": {
          "base_uri": "https://localhost:8080/"
        },
        "outputId": "c9b47083-c0ce-4924-fdf5-d121d1029b0c"
      },
      "execution_count": 21,
      "outputs": [
        {
          "output_type": "stream",
          "name": "stdout",
          "text": [
            "Jumlah uang yang akan diterima kaum dhuafa: Rp 1506881.25\n"
          ]
        }
      ]
    }
  ]
}
